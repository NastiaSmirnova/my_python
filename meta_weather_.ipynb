{
 "cells": [
  {
   "cell_type": "code",
   "execution_count": 65,
   "metadata": {},
   "outputs": [],
   "source": [
    "import requests\n",
    "import pandas as pd\n",
    "from pprint import pprint as pp\n"
   ]
  },
  {
   "cell_type": "code",
   "execution_count": 66,
   "metadata": {},
   "outputs": [],
   "source": [
    "json_city = requests.get(\"https://www.metaweather.com/api/location/search/?query=St Petersburg\").json()"
   ]
  },
  {
   "cell_type": "code",
   "execution_count": 67,
   "metadata": {},
   "outputs": [
    {
     "name": "stdout",
     "output_type": "stream",
     "text": [
      "[{'latt_long': '59.932739,30.306721',\n",
      "  'location_type': 'City',\n",
      "  'title': 'St Petersburg',\n",
      "  'woeid': 2123260}]\n"
     ]
    }
   ],
   "source": [
    "pp(json_city)"
   ]
  },
  {
   "cell_type": "code",
   "execution_count": 68,
   "metadata": {},
   "outputs": [],
   "source": [
    "ident = json_city[0][\"woeid\"]"
   ]
  },
  {
   "cell_type": "code",
   "execution_count": 69,
   "metadata": {},
   "outputs": [
    {
     "name": "stdout",
     "output_type": "stream",
     "text": [
      "2123260\n"
     ]
    }
   ],
   "source": [
    "print(ident)"
   ]
  },
  {
   "cell_type": "code",
   "execution_count": 70,
   "metadata": {},
   "outputs": [
    {
     "name": "stdout",
     "output_type": "stream",
     "text": [
      "[{'air_pressure': 1015.96,\n",
      "  'applicable_date': '2019-10-01',\n",
      "  'created': '2019-09-24T07:20:28.915907Z',\n",
      "  'humidity': 71,\n",
      "  'id': 4673607827456000,\n",
      "  'max_temp': 21.03,\n",
      "  'min_temp': 16.605,\n",
      "  'predictability': 77,\n",
      "  'the_temp': 28.32,\n",
      "  'visibility': 9.859918078422016,\n",
      "  'weather_state_abbr': 'hr',\n",
      "  'weather_state_name': 'Heavy Rain',\n",
      "  'wind_direction': 27.5,\n",
      "  'wind_direction_compass': 'NNE',\n",
      "  'wind_speed': 4.983335321721149},\n",
      " {'air_pressure': 1015.96,\n",
      "  'applicable_date': '2019-10-01',\n",
      "  'created': '2019-09-24T04:20:28.690001Z',\n",
      "  'humidity': 71,\n",
      "  'id': 5490819576365056,\n",
      "  'max_temp': 21.03,\n",
      "  'min_temp': 16.605,\n",
      "  'predictability': 77,\n",
      "  'the_temp': 28.32,\n",
      "  'visibility': 9.859918078422016,\n",
      "  'weather_state_abbr': 'hr',\n",
      "  'weather_state_name': 'Heavy Rain',\n",
      "  'wind_direction': 27.5,\n",
      "  'wind_direction_compass': 'NNE',\n",
      "  'wind_speed': 4.983335321721149},\n",
      " {'air_pressure': 1014.67,\n",
      "  'applicable_date': '2019-10-01',\n",
      "  'created': '2019-09-24T01:20:29.025872Z',\n",
      "  'humidity': 75,\n",
      "  'id': 5115611501821952,\n",
      "  'max_temp': 29.02,\n",
      "  'min_temp': 25.26,\n",
      "  'predictability': 77,\n",
      "  'the_temp': 28.45,\n",
      "  'visibility': None,\n",
      "  'weather_state_abbr': 'hr',\n",
      "  'weather_state_name': 'Heavy Rain',\n",
      "  'wind_direction': 45.0,\n",
      "  'wind_direction_compass': 'NE',\n",
      "  'wind_speed': 2.5538356000954425}]\n"
     ]
    }
   ],
   "source": [
    "pp(requests.get(\"https://www.metaweather.com/api/location/\"+ str(ident)+\"/2019/10/1/\").json()[:3])"
   ]
  },
  {
   "cell_type": "code",
   "execution_count": 71,
   "metadata": {},
   "outputs": [],
   "source": [
    "a=pd.DataFrame(columns=['applicable_date','min_temp', 'predictability'])\n",
    "for k in range(24,28):\n",
    "    b=pd.DataFrame(requests.get(\"https://www.metaweather.com/api/location/\"+ str(ident)+\"/2019/9/\"+str(k)).json())\n",
    "    b=b[['applicable_date','min_temp','predictability']]\n",
    "    a=a.append(b)\n"
   ]
  },
  {
   "cell_type": "code",
   "execution_count": 73,
   "metadata": {},
   "outputs": [],
   "source": [
    "a1=a[a.predictability==max(a.predictability)]"
   ]
  },
  {
   "cell_type": "code",
   "execution_count": 75,
   "metadata": {},
   "outputs": [
    {
     "data": {
      "text/plain": [
       "25.490000000000002"
      ]
     },
     "execution_count": 75,
     "metadata": {},
     "output_type": "execute_result"
    }
   ],
   "source": [
    "a1['min_temp'].mean()"
   ]
  },
  {
   "cell_type": "code",
   "execution_count": null,
   "metadata": {},
   "outputs": [],
   "source": []
  }
 ],
 "metadata": {
  "kernelspec": {
   "display_name": "Python 3",
   "language": "python",
   "name": "python3"
  },
  "language_info": {
   "codemirror_mode": {
    "name": "ipython",
    "version": 3
   },
   "file_extension": ".py",
   "mimetype": "text/x-python",
   "name": "python",
   "nbconvert_exporter": "python",
   "pygments_lexer": "ipython3",
   "version": "3.6.5"
  }
 },
 "nbformat": 4,
 "nbformat_minor": 2
}
